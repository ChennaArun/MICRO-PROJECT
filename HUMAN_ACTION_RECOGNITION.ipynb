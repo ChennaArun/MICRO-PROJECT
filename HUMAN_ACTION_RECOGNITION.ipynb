{
  "cells": [
    {
      "cell_type": "code",
      "execution_count": null,
      "metadata": {
        "id": "EaW-GlDsh7lq"
      },
      "outputs": [],
      "source": [
        "!pip install -q imageio\n",
        "!pip install -q opencv-python\n",
        "!pip install -q git+https://github.com/tensorflow/docs"
      ]
    },
    {
      "cell_type": "code",
      "execution_count": null,
      "metadata": {
        "id": "kmWJFdjuiPmi"
      },
      "outputs": [],
      "source": [
        "from absl import logging\n",
        "\n",
        "import tensorflow as tf\n",
        "import tensorflow_hub as hub\n",
        "from tensorflow_docs.vis import embed\n",
        "\n",
        "logging.set_verbosity(logging.ERROR)\n",
        "\n",
        "# Some modules to help with reading the UCF101 dataset.\n",
        "import random\n",
        "import re\n",
        "import os\n",
        "import tempfile\n",
        "import ssl\n",
        "import cv2\n",
        "import numpy as np\n",
        "\n",
        "# Some modules to display an animation using imageio.\n",
        "import imageio\n",
        "from IPython import display\n",
        "\n",
        "from urllib import request"
      ]
    },
    {
      "cell_type": "code",
      "execution_count": null,
      "metadata": {
        "id": "31NMs-GttdtQ"
      },
      "outputs": [],
      "source": [
        "# Utilities to fetch videos from UCF101 dataset\n",
        "UCF_ROOT = \"https://www.crcv.ucf.edu/THUMOS14/UCF101/UCF101/\"\n",
        "_VIDEO_LIST = None\n",
        "_CACHE_DIR = tempfile.mkdtemp()\n",
        "unverified_context = ssl._create_unverified_context()\n",
        "\n",
        "def list_ucf_videos():\n",
        "  global _VIDEO_LIST\n",
        "  if not _VIDEO_LIST:\n",
        "    index = request.urlopen(UCF_ROOT, context=unverified_context).read().decode(\"utf-8\")\n",
        "    videos = re.findall(\"(v_[\\w_]+\\.avi)\", index)\n",
        "    _VIDEO_LIST = sorted(set(videos))\n",
        "  return list(_VIDEO_LIST)\n",
        "\n",
        "def fetch_ucf_video(video):\n",
        "  cache_path = os.path.join(_CACHE_DIR, video)\n",
        "  if not os.path.exists(cache_path):\n",
        "    urlpath = request.urljoin(UCF_ROOT, video)\n",
        "    print(\"Fetching %s => %s\" % (urlpath, cache_path))\n",
        "    data = request.urlopen(urlpath, context=unverified_context).read()\n",
        "    open(cache_path, \"wb\").write(data)\n",
        "  return cache_path\n",
        "\n",
        "def crop_center_square(frame):\n",
        "  y, x = frame.shape[0:2]\n",
        "  min_dim = min(y, x)\n",
        "  start_x = (x // 2) - (min_dim // 2)\n",
        "  start_y = (y // 2) - (min_dim // 2)\n",
        "  return frame[start_y:start_y+min_dim,start_x:start_x+min_dim]\n",
        "\n",
        "def load_video(path, max_frames=0, resize=(224, 224)):\n",
        "  cap = cv2.VideoCapture(path)\n",
        "  frames = []\n",
        "  try:\n",
        "    while True:\n",
        "      ret, frame = cap.read()\n",
        "      if not ret:\n",
        "        break\n",
        "      frame = crop_center_square(frame)\n",
        "      frame = cv2.resize(frame, resize)\n",
        "      frame = frame[:, :, [2, 1, 0]]\n",
        "      frames.append(frame)\n",
        "\n",
        "      if len(frames) == max_frames:\n",
        "        break\n",
        "  finally:\n",
        "    cap.release()\n",
        "  return np.array(frames) / 255.0\n",
        "\n",
        "def to_gif(images):\n",
        "  converted_images = np.clip(images * 255, 0, 255).astype(np.uint8)\n",
        "  imageio.mimsave('./animation.gif', converted_images, fps=25)\n",
        "  return embed.embed_file('./animation.gif')"
      ]
    },
    {
      "cell_type": "code",
      "execution_count": null,
      "metadata": {
        "id": "TS9Uq-k_id4f"
      },
      "outputs": [],
      "source": []
    },
    {
      "cell_type": "code",
      "execution_count": null,
      "metadata": {
        "colab": {
          "base_uri": "https://localhost:8080/"
        },
        "id": "D5K-M1b8tn6S",
        "outputId": "6512b1eb-73d4-4155-f2b3-8f74384b2cbe"
      },
      "outputs": [
        {
          "name": "stdout",
          "output_type": "stream",
          "text": [
            "Found in total 400 labels.\n"
          ]
        }
      ],
      "source": [
        "KINETICS_URL = \"https://raw.githubusercontent.com/deepmind/kinetics-i3d/master/data/label_map.txt\"\n",
        "with request.urlopen(KINETICS_URL) as obj:\n",
        "  labels = [line.decode(\"utf-8\").strip() for line in obj.readlines()]\n",
        "print(\"Found in total %d labels.\" % len(labels))"
      ]
    },
    {
      "cell_type": "code",
      "execution_count": null,
      "metadata": {
        "id": "duZSUGhdijIc"
      },
      "outputs": [],
      "source": []
    },
    {
      "cell_type": "code",
      "execution_count": null,
      "metadata": {
        "colab": {
          "base_uri": "https://localhost:8080/"
        },
        "id": "dOVcJTivt0fY",
        "outputId": "99bab3dd-3726-42e4-c232-61e0fc05b6f3"
      },
      "outputs": [
        {
          "name": "stdout",
          "output_type": "stream",
          "text": [
            "Found in total 13320 videos in overall 101 categories.\n",
            "\n",
            "\n",
            "  CATEGORY  \t   No. of Videos  \t\t\t  Details\n",
            "ApplyEyeMakeup           145           v_ApplyEyeMakeup_g01_c01.avi, v_ApplyEyeMakeup_g01_c02.avi, ...\n",
            "ApplyLipstick            114           v_ApplyLipstick_g01_c01.avi, v_ApplyLipstick_g01_c02.avi, ...\n",
            "Archery                  145           v_Archery_g01_c01.avi, v_Archery_g01_c02.avi, ...\n",
            "BabyCrawling             132           v_BabyCrawling_g01_c01.avi, v_BabyCrawling_g01_c02.avi, ...\n",
            "BalanceBeam              108           v_BalanceBeam_g01_c01.avi, v_BalanceBeam_g01_c02.avi, ...\n",
            "BandMarching             155           v_BandMarching_g01_c01.avi, v_BandMarching_g01_c02.avi, ...\n",
            "BaseballPitch            150           v_BaseballPitch_g01_c01.avi, v_BaseballPitch_g01_c02.avi, ...\n",
            "BasketballDunk           131           v_BasketballDunk_g01_c01.avi, v_BasketballDunk_g01_c02.avi, ...\n",
            "Basketball               134           v_Basketball_g01_c01.avi, v_Basketball_g01_c02.avi, ...\n",
            "BenchPress               160           v_BenchPress_g01_c01.avi, v_BenchPress_g01_c02.avi, ...\n",
            "Biking                   134           v_Biking_g01_c01.avi, v_Biking_g01_c02.avi, ...\n",
            "Billiards                150           v_Billiards_g01_c01.avi, v_Billiards_g01_c02.avi, ...\n",
            "BlowDryHair              131           v_BlowDryHair_g01_c01.avi, v_BlowDryHair_g01_c02.avi, ...\n",
            "BlowingCandles           109           v_BlowingCandles_g01_c01.avi, v_BlowingCandles_g01_c02.avi, ...\n",
            "BodyWeightSquats         112           v_BodyWeightSquats_g01_c01.avi, v_BodyWeightSquats_g01_c02.avi, ...\n",
            "Bowling                  155           v_Bowling_g01_c01.avi, v_Bowling_g01_c02.avi, ...\n",
            "BoxingPunchingBag        163           v_BoxingPunchingBag_g01_c01.avi, v_BoxingPunchingBag_g01_c02.avi, ...\n",
            "BoxingSpeedBag           134           v_BoxingSpeedBag_g01_c01.avi, v_BoxingSpeedBag_g01_c02.avi, ...\n",
            "BreastStroke             101           v_BreastStroke_g01_c01.avi, v_BreastStroke_g01_c02.avi, ...\n",
            "BrushingTeeth            131           v_BrushingTeeth_g01_c01.avi, v_BrushingTeeth_g01_c02.avi, ...\n",
            "CleanAndJerk             112           v_CleanAndJerk_g01_c01.avi, v_CleanAndJerk_g01_c02.avi, ...\n",
            "CliffDiving              138           v_CliffDiving_g01_c01.avi, v_CliffDiving_g01_c02.avi, ...\n",
            "CricketBowling           139           v_CricketBowling_g01_c01.avi, v_CricketBowling_g01_c02.avi, ...\n",
            "CricketShot              167           v_CricketShot_g01_c01.avi, v_CricketShot_g01_c02.avi, ...\n",
            "CuttingInKitchen         110           v_CuttingInKitchen_g01_c01.avi, v_CuttingInKitchen_g01_c02.avi, ...\n",
            "Diving                   150           v_Diving_g01_c01.avi, v_Diving_g01_c02.avi, ...\n",
            "Drumming                 161           v_Drumming_g01_c01.avi, v_Drumming_g01_c02.avi, ...\n",
            "Fencing                  111           v_Fencing_g01_c01.avi, v_Fencing_g01_c02.avi, ...\n",
            "FieldHockeyPenalty       126           v_FieldHockeyPenalty_g01_c01.avi, v_FieldHockeyPenalty_g01_c02.avi, ...\n",
            "FloorGymnastics          125           v_FloorGymnastics_g01_c01.avi, v_FloorGymnastics_g01_c02.avi, ...\n",
            "FrisbeeCatch             126           v_FrisbeeCatch_g01_c01.avi, v_FrisbeeCatch_g01_c02.avi, ...\n",
            "FrontCrawl               137           v_FrontCrawl_g01_c01.avi, v_FrontCrawl_g01_c02.avi, ...\n",
            "GolfSwing                139           v_GolfSwing_g01_c01.avi, v_GolfSwing_g01_c02.avi, ...\n",
            "Haircut                  130           v_Haircut_g01_c01.avi, v_Haircut_g01_c02.avi, ...\n",
            "HammerThrow              150           v_HammerThrow_g01_c01.avi, v_HammerThrow_g01_c02.avi, ...\n",
            "Hammering                140           v_Hammering_g01_c01.avi, v_Hammering_g01_c02.avi, ...\n",
            "HandstandPushups         128           v_HandstandPushups_g01_c01.avi, v_HandstandPushups_g01_c02.avi, ...\n",
            "HandstandWalking         111           v_HandstandWalking_g01_c01.avi, v_HandstandWalking_g01_c02.avi, ...\n",
            "HeadMassage              147           v_HeadMassage_g01_c01.avi, v_HeadMassage_g01_c02.avi, ...\n",
            "HighJump                 123           v_HighJump_g01_c01.avi, v_HighJump_g01_c02.avi, ...\n",
            "HorseRace                124           v_HorseRace_g01_c01.avi, v_HorseRace_g01_c02.avi, ...\n",
            "HorseRiding              164           v_HorseRiding_g01_c01.avi, v_HorseRiding_g01_c02.avi, ...\n",
            "HulaHoop                 125           v_HulaHoop_g01_c01.avi, v_HulaHoop_g01_c02.avi, ...\n",
            "IceDancing               158           v_IceDancing_g01_c01.avi, v_IceDancing_g01_c02.avi, ...\n",
            "JavelinThrow             117           v_JavelinThrow_g01_c01.avi, v_JavelinThrow_g01_c02.avi, ...\n",
            "JugglingBalls            121           v_JugglingBalls_g01_c01.avi, v_JugglingBalls_g01_c02.avi, ...\n",
            "JumpRope                 144           v_JumpRope_g01_c01.avi, v_JumpRope_g01_c02.avi, ...\n",
            "JumpingJack              123           v_JumpingJack_g01_c01.avi, v_JumpingJack_g01_c02.avi, ...\n",
            "Kayaking                 141           v_Kayaking_g01_c01.avi, v_Kayaking_g01_c02.avi, ...\n",
            "Knitting                 123           v_Knitting_g01_c01.avi, v_Knitting_g01_c02.avi, ...\n",
            "LongJump                 131           v_LongJump_g01_c01.avi, v_LongJump_g01_c02.avi, ...\n",
            "Lunges                   127           v_Lunges_g01_c01.avi, v_Lunges_g01_c02.avi, ...\n",
            "MilitaryParade           125           v_MilitaryParade_g01_c01.avi, v_MilitaryParade_g01_c02.avi, ...\n",
            "Mixing                   136           v_Mixing_g01_c01.avi, v_Mixing_g01_c02.avi, ...\n",
            "MoppingFloor             110           v_MoppingFloor_g01_c01.avi, v_MoppingFloor_g01_c02.avi, ...\n",
            "Nunchucks                132           v_Nunchucks_g01_c01.avi, v_Nunchucks_g01_c02.avi, ...\n",
            "ParallelBars             114           v_ParallelBars_g01_c01.avi, v_ParallelBars_g01_c02.avi, ...\n",
            "PizzaTossing             113           v_PizzaTossing_g01_c01.avi, v_PizzaTossing_g01_c02.avi, ...\n",
            "PlayingCello             164           v_PlayingCello_g01_c01.avi, v_PlayingCello_g01_c02.avi, ...\n",
            "PlayingDaf               151           v_PlayingDaf_g01_c01.avi, v_PlayingDaf_g01_c02.avi, ...\n",
            "PlayingDhol              164           v_PlayingDhol_g01_c01.avi, v_PlayingDhol_g01_c02.avi, ...\n",
            "PlayingFlute             155           v_PlayingFlute_g01_c01.avi, v_PlayingFlute_g01_c02.avi, ...\n",
            "PlayingGuitar            160           v_PlayingGuitar_g01_c01.avi, v_PlayingGuitar_g01_c02.avi, ...\n",
            "PlayingPiano             105           v_PlayingPiano_g01_c01.avi, v_PlayingPiano_g01_c02.avi, ...\n",
            "PlayingSitar             157           v_PlayingSitar_g01_c01.avi, v_PlayingSitar_g01_c02.avi, ...\n",
            "PlayingTabla             111           v_PlayingTabla_g01_c01.avi, v_PlayingTabla_g01_c02.avi, ...\n",
            "PlayingViolin            100           v_PlayingViolin_g01_c01.avi, v_PlayingViolin_g01_c02.avi, ...\n",
            "PoleVault                149           v_PoleVault_g01_c01.avi, v_PoleVault_g01_c02.avi, ...\n",
            "PommelHorse              123           v_PommelHorse_g01_c01.avi, v_PommelHorse_g01_c02.avi, ...\n",
            "PullUps                  100           v_PullUps_g01_c01.avi, v_PullUps_g01_c02.avi, ...\n",
            "Punch                    160           v_Punch_g01_c01.avi, v_Punch_g01_c02.avi, ...\n",
            "PushUps                  102           v_PushUps_g01_c01.avi, v_PushUps_g01_c02.avi, ...\n",
            "Rafting                  111           v_Rafting_g01_c01.avi, v_Rafting_g01_c02.avi, ...\n",
            "RockClimbingIndoor       144           v_RockClimbingIndoor_g01_c01.avi, v_RockClimbingIndoor_g01_c02.avi, ...\n",
            "RopeClimbing             119           v_RopeClimbing_g01_c01.avi, v_RopeClimbing_g01_c02.avi, ...\n",
            "Rowing                   137           v_Rowing_g01_c01.avi, v_Rowing_g01_c02.avi, ...\n",
            "SalsaSpin                133           v_SalsaSpin_g01_c01.avi, v_SalsaSpin_g01_c02.avi, ...\n",
            "ShavingBeard             161           v_ShavingBeard_g01_c01.avi, v_ShavingBeard_g01_c02.avi, ...\n",
            "Shotput                  144           v_Shotput_g01_c01.avi, v_Shotput_g01_c02.avi, ...\n",
            "SkateBoarding            120           v_SkateBoarding_g01_c01.avi, v_SkateBoarding_g01_c02.avi, ...\n",
            "Skiing                   135           v_Skiing_g01_c01.avi, v_Skiing_g01_c02.avi, ...\n",
            "Skijet                   100           v_Skijet_g01_c01.avi, v_Skijet_g01_c02.avi, ...\n",
            "SkyDiving                110           v_SkyDiving_g01_c01.avi, v_SkyDiving_g01_c02.avi, ...\n",
            "SoccerJuggling           147           v_SoccerJuggling_g01_c01.avi, v_SoccerJuggling_g01_c02.avi, ...\n",
            "SoccerPenalty            137           v_SoccerPenalty_g01_c01.avi, v_SoccerPenalty_g01_c02.avi, ...\n",
            "StillRings               112           v_StillRings_g01_c01.avi, v_StillRings_g01_c02.avi, ...\n",
            "SumoWrestling            116           v_SumoWrestling_g01_c01.avi, v_SumoWrestling_g01_c02.avi, ...\n",
            "Surfing                  126           v_Surfing_g01_c01.avi, v_Surfing_g01_c02.avi, ...\n",
            "Swing                    131           v_Swing_g01_c01.avi, v_Swing_g01_c02.avi, ...\n",
            "TableTennisShot          140           v_TableTennisShot_g01_c01.avi, v_TableTennisShot_g01_c02.avi, ...\n",
            "TaiChi                   100           v_TaiChi_g01_c01.avi, v_TaiChi_g01_c02.avi, ...\n",
            "TennisSwing              166           v_TennisSwing_g01_c01.avi, v_TennisSwing_g01_c02.avi, ...\n",
            "ThrowDiscus              130           v_ThrowDiscus_g01_c01.avi, v_ThrowDiscus_g01_c02.avi, ...\n",
            "TrampolineJumping        119           v_TrampolineJumping_g01_c01.avi, v_TrampolineJumping_g01_c02.avi, ...\n",
            "Typing                   136           v_Typing_g01_c01.avi, v_Typing_g01_c02.avi, ...\n",
            "UnevenBars               104           v_UnevenBars_g01_c01.avi, v_UnevenBars_g01_c02.avi, ...\n",
            "VolleyballSpiking        116           v_VolleyballSpiking_g01_c01.avi, v_VolleyballSpiking_g01_c02.avi, ...\n",
            "WalkingWithDog           123           v_WalkingWithDog_g01_c01.avi, v_WalkingWithDog_g01_c02.avi, ...\n",
            "WallPushups              130           v_WallPushups_g01_c01.avi, v_WallPushups_g01_c02.avi, ...\n",
            "WritingOnBoard           152           v_WritingOnBoard_g01_c01.avi, v_WritingOnBoard_g01_c02.avi, ...\n",
            "YoYo                     128           v_YoYo_g01_c01.avi, v_YoYo_g01_c02.avi, ...\n"
          ]
        }
      ],
      "source": [
        "ucf_videos = list_ucf_videos()\n",
        "categories = {}\n",
        "for video in ucf_videos:\n",
        "  category = video[2:-12]\n",
        "  if category not in categories:\n",
        "    categories[category] = []\n",
        "  categories[category].append(video)\n",
        "print(\"Found in total %d videos in overall %d categories.\" % (len(ucf_videos), len(categories)))\n",
        "\n",
        "print(\"\\n\")\n",
        "head1 = \"CATEGORY\"\n",
        "head2 = \"No. of Videos\"\n",
        "head3 = \"Details\"\n",
        "print(\" \",head1,\" \\t  \",head2,\" \\t\\t\\t \",head3)\n",
        "for category, sequences in categories.items():\n",
        "  summary = \", \".join(sequences[:2])\n",
        "  print(\"%-20s    %4d           %s, ...\" % (category, len(sequences), summary))"
      ]
    },
    {
      "cell_type": "code",
      "execution_count": null,
      "metadata": {
        "colab": {
          "base_uri": "https://localhost:8080/"
        },
        "id": "O38qkr0aip0f",
        "outputId": "916d6a94-c5b5-4cda-9e96-0d264aaf6da6"
      },
      "outputs": [
        {
          "name": "stdout",
          "output_type": "stream",
          "text": [
            "Fetching https://www.crcv.ucf.edu/THUMOS14/UCF101/UCF101/v_LongJump_g01_c01.avi => /tmp/tmpzq2y2z3g/v_LongJump_g01_c01.avi\n"
          ]
        },
        {
          "data": {
            "text/plain": [
              "(143, 224, 224, 3)"
            ]
          },
          "execution_count": 7,
          "metadata": {},
          "output_type": "execute_result"
        }
      ],
      "source": [
        "video_path = fetch_ucf_video(\"v_LongJump_g01_c01.avi\")\n",
        "sample_video = load_video(video_path)\n",
        "sample_video1 = load_video(video_path)[:100]\n",
        "sample_video.shape"
      ]
    },
    {
      "cell_type": "code",
      "execution_count": null,
      "metadata": {
        "colab": {
          "background_save": true,
          "base_uri": "https://localhost:8080/",
          "height": 246
        },
        "id": "qThN-LpaitB9",
        "outputId": "d0a1f7a4-c15a-41d9-ba20-cb70975bd45d"
      },
      "outputs": [],
      "source": [
        "to_gif(sample_video1)"
      ]
    },
    {
      "cell_type": "code",
      "execution_count": null,
      "metadata": {
        "id": "NCfIbywkiy2z"
      },
      "outputs": [],
      "source": []
    },
    {
      "cell_type": "code",
      "execution_count": null,
      "metadata": {
        "id": "S9WicsikvtJe"
      },
      "outputs": [],
      "source": [
        "i3d = hub.load(\"https://tfhub.dev/deepmind/i3d-kinetics-400/1\").signatures['default']"
      ]
    },
    {
      "cell_type": "code",
      "execution_count": null,
      "metadata": {
        "id": "KaRobFaVi2cD"
      },
      "outputs": [],
      "source": [
        "def predict(sample_video):\n",
        "  # Add a batch axis to the to the sample video.\n",
        "  model_input = tf.constant(sample_video, dtype=tf.float32)[tf.newaxis, ...]\n",
        "\n",
        "  logits = i3d(model_input)['default'][0]\n",
        "  probabilities = tf.nn.softmax(logits)\n",
        "\n",
        "  print(\"Top 5 actions:\")\n",
        "  for i in np.argsort(probabilities)[::-1][:5]:\n",
        "    print(f\"  {labels[i]:22}: {probabilities[i] * 100:5.2f}%\")"
      ]
    },
    {
      "cell_type": "code",
      "execution_count": null,
      "metadata": {
        "id": "v89vkMtVi7x_"
      },
      "outputs": [],
      "source": [
        "predict(sample_video)"
      ]
    },
    {
      "cell_type": "code",
      "execution_count": null,
      "metadata": {
        "colab": {
          "base_uri": "https://localhost:8080/"
        },
        "id": "x1MmmBtmjEzm",
        "outputId": "4c2390de-180d-49a8-a5b5-a970c5b28070"
      },
      "outputs": [
        {
          "data": {
            "text/plain": [
              "(153, 224, 224, 3)"
            ]
          },
          "execution_count": 24,
          "metadata": {},
          "output_type": "execute_result"
        }
      ],
      "source": [
        "video_path = fetch_ucf_video(\"v_WritingOnBoard_g01_c01.avi\")\n",
        "sample_video = load_video(video_path)\n",
        "sample_video1 = load_video(video_path)[:100]\n",
        "sample_video.shape"
      ]
    },
    {
      "cell_type": "code",
      "execution_count": null,
      "metadata": {
        "colab": {
          "background_save": true,
          "base_uri": "https://localhost:8080/",
          "height": 246
        },
        "id": "hgCBBQ3KjIDv",
        "outputId": "0d49cb1d-d9e8-4152-96f9-19d0ae248865"
      },
      "outputs": [],
      "source": [
        "to_gif(sample_video1)"
      ]
    },
    {
      "cell_type": "code",
      "execution_count": null,
      "metadata": {
        "colab": {
          "base_uri": "https://localhost:8080/"
        },
        "id": "n8jcda2mjMFr",
        "outputId": "c94392a6-14a3-405e-f130-3750d02f3e71"
      },
      "outputs": [
        {
          "name": "stdout",
          "output_type": "stream",
          "text": [
            "Top 5 actions:\n",
            "  writing               : 99.96%\n",
            "  spray painting        :  0.00%\n",
            "  beatboxing            :  0.00%\n",
            "  playing harmonica     :  0.00%\n",
            "  brush painting        :  0.00%\n"
          ]
        }
      ],
      "source": [
        "predict(sample_video1)"
      ]
    },
    {
      "cell_type": "code",
      "execution_count": null,
      "metadata": {
        "colab": {
          "base_uri": "https://localhost:8080/"
        },
        "id": "2Ob_UaeYjT89",
        "outputId": "ad6dd409-6a63-4966-cddc-0076307dee78"
      },
      "outputs": [
        {
          "data": {
            "text/plain": [
              "(250, 224, 224, 3)"
            ]
          },
          "execution_count": 27,
          "metadata": {},
          "output_type": "execute_result"
        }
      ],
      "source": [
        "video_path = fetch_ucf_video(\"v_PlayingGuitar_g01_c02.avi\")\n",
        "sample_video = load_video(video_path)\n",
        "sample_video1 = load_video(video_path)[:100]\n",
        "sample_video.shape\n"
      ]
    },
    {
      "cell_type": "code",
      "execution_count": null,
      "metadata": {
        "colab": {
          "background_save": true,
          "base_uri": "https://localhost:8080/",
          "height": 246
        },
        "id": "DdH3p52GjXr-",
        "outputId": "cadda0e4-d5f9-4859-b4df-a45fa00dd44a"
      },
      "outputs": [],
      "source": [
        "to_gif(sample_video1)"
      ]
    },
    {
      "cell_type": "code",
      "execution_count": null,
      "metadata": {
        "colab": {
          "base_uri": "https://localhost:8080/"
        },
        "id": "9acIBf37jbpW",
        "outputId": "d45da724-de45-4f8b-bc1a-03ce65407715"
      },
      "outputs": [
        {
          "name": "stdout",
          "output_type": "stream",
          "text": [
            "Top 5 actions:\n",
            "  playing guitar        : 89.51%\n",
            "  strumming guitar      :  9.17%\n",
            "  busking               :  0.35%\n",
            "  playing drums         :  0.28%\n",
            "  recording music       :  0.23%\n"
          ]
        }
      ],
      "source": [
        "predict(sample_video)\n"
      ]
    }
  ],
  "metadata": {
    "colab": {
      "provenance": []
    },
    "kernelspec": {
      "display_name": "Python 3",
      "name": "python3"
    },
    "language_info": {
      "name": "python"
    }
  },
  "nbformat": 4,
  "nbformat_minor": 0
}